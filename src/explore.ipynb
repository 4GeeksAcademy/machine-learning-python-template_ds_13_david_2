{
    "cells": [
        {
            "cell_type": "markdown",
            "metadata": {},
            "source": [
                "# Explore here"
            ]
        },
        {
            "cell_type": "code",
            "execution_count": 2,
            "metadata": {},
            "outputs": [
                {
                    "name": "stdout",
                    "output_type": "stream",
                    "text": [
                        "     id                                              name  host_id  \\\n",
                        "0  2539                Clean & quiet apt home by the park     2787   \n",
                        "1  2595                             Skylit Midtown Castle     2845   \n",
                        "2  3647               THE VILLAGE OF HARLEM....NEW YORK !     4632   \n",
                        "3  3831                   Cozy Entire Floor of Brownstone     4869   \n",
                        "4  5022  Entire Apt: Spacious Studio/Loft by central park     7192   \n",
                        "\n",
                        "     host_name neighbourhood_group neighbourhood  latitude  longitude  \\\n",
                        "0         John            Brooklyn    Kensington  40.64749  -73.97237   \n",
                        "1     Jennifer           Manhattan       Midtown  40.75362  -73.98377   \n",
                        "2    Elisabeth           Manhattan        Harlem  40.80902  -73.94190   \n",
                        "3  LisaRoxanne            Brooklyn  Clinton Hill  40.68514  -73.95976   \n",
                        "4        Laura           Manhattan   East Harlem  40.79851  -73.94399   \n",
                        "\n",
                        "         room_type  price  minimum_nights  number_of_reviews last_review  \\\n",
                        "0     Private room    149               1                  9  2018-10-19   \n",
                        "1  Entire home/apt    225               1                 45  2019-05-21   \n",
                        "2     Private room    150               3                  0         NaN   \n",
                        "3  Entire home/apt     89               1                270  2019-07-05   \n",
                        "4  Entire home/apt     80              10                  9  2018-11-19   \n",
                        "\n",
                        "   reviews_per_month  calculated_host_listings_count  availability_365  \n",
                        "0               0.21                               6               365  \n",
                        "1               0.38                               2               355  \n",
                        "2                NaN                               1               365  \n",
                        "3               4.64                               1               194  \n",
                        "4               0.10                               1                 0  \n"
                    ]
                }
            ],
            "source": [
                "# Your code here\n",
                "import pandas as pd\n",
                "data = pd.read_csv(r\"https://raw.githubusercontent.com/4GeeksAcademy/data-preprocessing-project-tutorial/main/AB_NYC_2019.csv\")\n",
                "print(data.head())"
            ]
        },
        {
            "cell_type": "markdown",
            "metadata": {},
            "source": []
        },
        {
            "cell_type": "code",
            "execution_count": 3,
            "metadata": {},
            "outputs": [
                {
                    "data": {
                        "text/plain": [
                            "(48895, 16)"
                        ]
                    },
                    "execution_count": 3,
                    "metadata": {},
                    "output_type": "execute_result"
                }
            ],
            "source": [
                "data.shape"
            ]
        },
        {
            "cell_type": "markdown",
            "metadata": {},
            "source": []
        },
        {
            "cell_type": "code",
            "execution_count": 4,
            "metadata": {},
            "outputs": [
                {
                    "name": "stdout",
                    "output_type": "stream",
                    "text": [
                        "<class 'pandas.core.frame.DataFrame'>\n",
                        "RangeIndex: 48895 entries, 0 to 48894\n",
                        "Data columns (total 16 columns):\n",
                        " #   Column                          Non-Null Count  Dtype  \n",
                        "---  ------                          --------------  -----  \n",
                        " 0   id                              48895 non-null  int64  \n",
                        " 1   name                            48879 non-null  object \n",
                        " 2   host_id                         48895 non-null  int64  \n",
                        " 3   host_name                       48874 non-null  object \n",
                        " 4   neighbourhood_group             48895 non-null  object \n",
                        " 5   neighbourhood                   48895 non-null  object \n",
                        " 6   latitude                        48895 non-null  float64\n",
                        " 7   longitude                       48895 non-null  float64\n",
                        " 8   room_type                       48895 non-null  object \n",
                        " 9   price                           48895 non-null  int64  \n",
                        " 10  minimum_nights                  48895 non-null  int64  \n",
                        " 11  number_of_reviews               48895 non-null  int64  \n",
                        " 12  last_review                     38843 non-null  object \n",
                        " 13  reviews_per_month               38843 non-null  float64\n",
                        " 14  calculated_host_listings_count  48895 non-null  int64  \n",
                        " 15  availability_365                48895 non-null  int64  \n",
                        "dtypes: float64(3), int64(7), object(6)\n",
                        "memory usage: 6.0+ MB\n"
                    ]
                }
            ],
            "source": [
                "data.info()"
            ]
        },
        {
            "cell_type": "markdown",
            "metadata": {},
            "source": []
        },
        {
            "cell_type": "markdown",
            "metadata": {},
            "source": []
        },
        {
            "cell_type": "code",
            "execution_count": 5,
            "metadata": {},
            "outputs": [
                {
                    "data": {
                        "text/plain": [
                            "np.int64(0)"
                        ]
                    },
                    "execution_count": 5,
                    "metadata": {},
                    "output_type": "execute_result"
                }
            ],
            "source": [
                "data.drop(\"id\", axis = 1).duplicated().sum()"
            ]
        },
        {
            "cell_type": "markdown",
            "metadata": {},
            "source": []
        },
        {
            "cell_type": "code",
            "execution_count": null,
            "metadata": {},
            "outputs": [],
            "source": []
        }
    ],
    "metadata": {
        "kernelspec": {
            "display_name": "Python 3",
            "language": "python",
            "name": "python3"
        },
        "language_info": {
            "codemirror_mode": {
                "name": "ipython",
                "version": 3
            },
            "file_extension": ".py",
            "mimetype": "text/x-python",
            "name": "python",
            "nbconvert_exporter": "python",
            "pygments_lexer": "ipython3",
            "version": "3.10.12"
        },
        "orig_nbformat": 4
    },
    "nbformat": 4,
    "nbformat_minor": 2
}
